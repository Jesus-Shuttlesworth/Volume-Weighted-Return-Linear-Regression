{
 "cells": [
  {
   "cell_type": "markdown",
   "metadata": {},
   "source": [
    "# Volume-Price Linear Regression"
   ]
  },
  {
   "cell_type": "markdown",
   "metadata": {},
   "source": [
    "### Goal: Using linear regression, predict the ensuing day's closing value for any high-volume S&P500 stock. The independent variables are volume-weighted returns over 8 standard time horizons as well as the previous day's closing price. The motivation for using volume-weighted returns comes from the book Volume Price Analysis, where Anna Coulling suggests that volume can be used to validate or invalidate price action."
   ]
  },
  {
   "cell_type": "code",
   "execution_count": 49,
   "metadata": {},
   "outputs": [],
   "source": [
    "import numpy as np\n",
    "import pandas as pd\n",
    "from pandas_datareader import data\n",
    "from datetime import datetime\n",
    "import matplotlib.pylab as plt\n",
    "from sklearn.linear_model import LinearRegression\n",
    "from sklearn.model_selection import train_test_split"
   ]
  },
  {
   "cell_type": "markdown",
   "metadata": {},
   "source": [
    "#### Create S&P500 Tickers List"
   ]
  },
  {
   "cell_type": "code",
   "execution_count": 50,
   "metadata": {},
   "outputs": [
    {
     "data": {
      "text/plain": [
       "['AAPL', 'ABBV', 'ABT', 'ACN', 'AGN', 'AIG', 'ALL', 'AMGN', 'AMZN', 'AXP']"
      ]
     },
     "execution_count": 50,
     "metadata": {},
     "output_type": "execute_result"
    }
   ],
   "source": [
    "df = pd.read_csv('/Users/cullenbaker/Downloads/ticks.csv')\n",
    "tickers = df['Symbol'].tolist()\n",
    "tickers[0:10]"
   ]
  },
  {
   "cell_type": "markdown",
   "metadata": {},
   "source": [
    "#### Import stock data from IEX"
   ]
  },
  {
   "cell_type": "code",
   "execution_count": 51,
   "metadata": {},
   "outputs": [],
   "source": [
    "start_date = datetime(2015, 1, 1)\n",
    "end_date = datetime(2019, 1, 1)\n",
    "\n",
    "stock_data = data.DataReader(tickers, 'iex', start_date, end_date)"
   ]
  },
  {
   "cell_type": "markdown",
   "metadata": {},
   "source": [
    "#### Refine dataset"
   ]
  },
  {
   "cell_type": "code",
   "execution_count": 52,
   "metadata": {},
   "outputs": [
    {
     "data": {
      "text/html": [
       "<div>\n",
       "<style scoped>\n",
       "    .dataframe tbody tr th:only-of-type {\n",
       "        vertical-align: middle;\n",
       "    }\n",
       "\n",
       "    .dataframe tbody tr th {\n",
       "        vertical-align: top;\n",
       "    }\n",
       "\n",
       "    .dataframe thead tr th {\n",
       "        text-align: left;\n",
       "    }\n",
       "\n",
       "    .dataframe thead tr:last-of-type th {\n",
       "        text-align: right;\n",
       "    }\n",
       "</style>\n",
       "<table border=\"1\" class=\"dataframe\">\n",
       "  <thead>\n",
       "    <tr>\n",
       "      <th>Attributes</th>\n",
       "      <th colspan=\"10\" halign=\"left\">close</th>\n",
       "      <th>...</th>\n",
       "      <th colspan=\"10\" halign=\"left\">volume</th>\n",
       "    </tr>\n",
       "    <tr>\n",
       "      <th>Symbols</th>\n",
       "      <th>AAPL</th>\n",
       "      <th>ABBV</th>\n",
       "      <th>ABT</th>\n",
       "      <th>ACN</th>\n",
       "      <th>AGN</th>\n",
       "      <th>AIG</th>\n",
       "      <th>ALL</th>\n",
       "      <th>AMGN</th>\n",
       "      <th>AMZN</th>\n",
       "      <th>AXP</th>\n",
       "      <th>...</th>\n",
       "      <th>TXN</th>\n",
       "      <th>UNH</th>\n",
       "      <th>UNP</th>\n",
       "      <th>UPS</th>\n",
       "      <th>USB</th>\n",
       "      <th>UTX</th>\n",
       "      <th>V</th>\n",
       "      <th>VZ</th>\n",
       "      <th>WBA</th>\n",
       "      <th>WFC</th>\n",
       "    </tr>\n",
       "    <tr>\n",
       "      <th>date</th>\n",
       "      <th></th>\n",
       "      <th></th>\n",
       "      <th></th>\n",
       "      <th></th>\n",
       "      <th></th>\n",
       "      <th></th>\n",
       "      <th></th>\n",
       "      <th></th>\n",
       "      <th></th>\n",
       "      <th></th>\n",
       "      <th></th>\n",
       "      <th></th>\n",
       "      <th></th>\n",
       "      <th></th>\n",
       "      <th></th>\n",
       "      <th></th>\n",
       "      <th></th>\n",
       "      <th></th>\n",
       "      <th></th>\n",
       "      <th></th>\n",
       "      <th></th>\n",
       "    </tr>\n",
       "  </thead>\n",
       "  <tbody>\n",
       "    <tr>\n",
       "      <th>2015-01-02</th>\n",
       "      <td>101.5280</td>\n",
       "      <td>55.5960</td>\n",
       "      <td>40.8010</td>\n",
       "      <td>81.3950</td>\n",
       "      <td>250.1029</td>\n",
       "      <td>51.2722</td>\n",
       "      <td>64.7362</td>\n",
       "      <td>143.2089</td>\n",
       "      <td>308.52</td>\n",
       "      <td>86.6383</td>\n",
       "      <td>...</td>\n",
       "      <td>4026075.0</td>\n",
       "      <td>3070081.0</td>\n",
       "      <td>3084363.0</td>\n",
       "      <td>2667996.0</td>\n",
       "      <td>5011005.0</td>\n",
       "      <td>3143341.0</td>\n",
       "      <td>8394080.0</td>\n",
       "      <td>11421233.0</td>\n",
       "      <td>3938482.0</td>\n",
       "      <td>11700856.0</td>\n",
       "    </tr>\n",
       "    <tr>\n",
       "      <th>2015-01-05</th>\n",
       "      <td>98.6678</td>\n",
       "      <td>54.5497</td>\n",
       "      <td>40.8101</td>\n",
       "      <td>80.0207</td>\n",
       "      <td>247.7479</td>\n",
       "      <td>50.2579</td>\n",
       "      <td>63.4530</td>\n",
       "      <td>141.5071</td>\n",
       "      <td>302.19</td>\n",
       "      <td>84.3470</td>\n",
       "      <td>...</td>\n",
       "      <td>5599324.0</td>\n",
       "      <td>4684055.0</td>\n",
       "      <td>4608447.0</td>\n",
       "      <td>3522224.0</td>\n",
       "      <td>6568724.0</td>\n",
       "      <td>4765317.0</td>\n",
       "      <td>12751200.0</td>\n",
       "      <td>18964458.0</td>\n",
       "      <td>4771744.0</td>\n",
       "      <td>15000528.0</td>\n",
       "    </tr>\n",
       "    <tr>\n",
       "      <th>2015-01-06</th>\n",
       "      <td>98.6771</td>\n",
       "      <td>54.2797</td>\n",
       "      <td>40.3466</td>\n",
       "      <td>79.4435</td>\n",
       "      <td>246.2808</td>\n",
       "      <td>49.5452</td>\n",
       "      <td>63.4068</td>\n",
       "      <td>136.9481</td>\n",
       "      <td>295.29</td>\n",
       "      <td>82.5495</td>\n",
       "      <td>...</td>\n",
       "      <td>5468393.0</td>\n",
       "      <td>3468294.0</td>\n",
       "      <td>6323925.0</td>\n",
       "      <td>3814551.0</td>\n",
       "      <td>8529685.0</td>\n",
       "      <td>5772347.0</td>\n",
       "      <td>11070492.0</td>\n",
       "      <td>22950060.0</td>\n",
       "      <td>4882715.0</td>\n",
       "      <td>20211187.0</td>\n",
       "    </tr>\n",
       "    <tr>\n",
       "      <th>2015-01-07</th>\n",
       "      <td>100.0607</td>\n",
       "      <td>56.4735</td>\n",
       "      <td>40.6738</td>\n",
       "      <td>81.1110</td>\n",
       "      <td>255.9904</td>\n",
       "      <td>49.7828</td>\n",
       "      <td>64.4500</td>\n",
       "      <td>141.7310</td>\n",
       "      <td>298.42</td>\n",
       "      <td>84.3524</td>\n",
       "      <td>...</td>\n",
       "      <td>4577116.0</td>\n",
       "      <td>3225790.0</td>\n",
       "      <td>4008375.0</td>\n",
       "      <td>1949531.0</td>\n",
       "      <td>5073711.0</td>\n",
       "      <td>3102192.0</td>\n",
       "      <td>9346840.0</td>\n",
       "      <td>20793637.0</td>\n",
       "      <td>5672058.0</td>\n",
       "      <td>15714655.0</td>\n",
       "    </tr>\n",
       "    <tr>\n",
       "      <th>2015-01-08</th>\n",
       "      <td>103.9053</td>\n",
       "      <td>57.0642</td>\n",
       "      <td>41.5098</td>\n",
       "      <td>82.3478</td>\n",
       "      <td>259.5905</td>\n",
       "      <td>49.5635</td>\n",
       "      <td>65.6871</td>\n",
       "      <td>141.2205</td>\n",
       "      <td>300.46</td>\n",
       "      <td>85.5481</td>\n",
       "      <td>...</td>\n",
       "      <td>6295206.0</td>\n",
       "      <td>5346136.0</td>\n",
       "      <td>4851031.0</td>\n",
       "      <td>2879051.0</td>\n",
       "      <td>10417592.0</td>\n",
       "      <td>3899898.0</td>\n",
       "      <td>10443656.0</td>\n",
       "      <td>17617453.0</td>\n",
       "      <td>4087169.0</td>\n",
       "      <td>16721579.0</td>\n",
       "    </tr>\n",
       "  </tbody>\n",
       "</table>\n",
       "<p>5 rows × 196 columns</p>\n",
       "</div>"
      ],
      "text/plain": [
       "Attributes     close                                                         \\\n",
       "Symbols         AAPL     ABBV      ABT      ACN       AGN      AIG      ALL   \n",
       "date                                                                          \n",
       "2015-01-02  101.5280  55.5960  40.8010  81.3950  250.1029  51.2722  64.7362   \n",
       "2015-01-05   98.6678  54.5497  40.8101  80.0207  247.7479  50.2579  63.4530   \n",
       "2015-01-06   98.6771  54.2797  40.3466  79.4435  246.2808  49.5452  63.4068   \n",
       "2015-01-07  100.0607  56.4735  40.6738  81.1110  255.9904  49.7828  64.4500   \n",
       "2015-01-08  103.9053  57.0642  41.5098  82.3478  259.5905  49.5635  65.6871   \n",
       "\n",
       "Attributes                                ...         volume             \\\n",
       "Symbols         AMGN    AMZN      AXP     ...            TXN        UNH   \n",
       "date                                      ...                             \n",
       "2015-01-02  143.2089  308.52  86.6383     ...      4026075.0  3070081.0   \n",
       "2015-01-05  141.5071  302.19  84.3470     ...      5599324.0  4684055.0   \n",
       "2015-01-06  136.9481  295.29  82.5495     ...      5468393.0  3468294.0   \n",
       "2015-01-07  141.7310  298.42  84.3524     ...      4577116.0  3225790.0   \n",
       "2015-01-08  141.2205  300.46  85.5481     ...      6295206.0  5346136.0   \n",
       "\n",
       "Attributes                                                           \\\n",
       "Symbols           UNP        UPS         USB        UTX           V   \n",
       "date                                                                  \n",
       "2015-01-02  3084363.0  2667996.0   5011005.0  3143341.0   8394080.0   \n",
       "2015-01-05  4608447.0  3522224.0   6568724.0  4765317.0  12751200.0   \n",
       "2015-01-06  6323925.0  3814551.0   8529685.0  5772347.0  11070492.0   \n",
       "2015-01-07  4008375.0  1949531.0   5073711.0  3102192.0   9346840.0   \n",
       "2015-01-08  4851031.0  2879051.0  10417592.0  3899898.0  10443656.0   \n",
       "\n",
       "Attributes                                     \n",
       "Symbols             VZ        WBA         WFC  \n",
       "date                                           \n",
       "2015-01-02  11421233.0  3938482.0  11700856.0  \n",
       "2015-01-05  18964458.0  4771744.0  15000528.0  \n",
       "2015-01-06  22950060.0  4882715.0  20211187.0  \n",
       "2015-01-07  20793637.0  5672058.0  15714655.0  \n",
       "2015-01-08  17617453.0  4087169.0  16721579.0  \n",
       "\n",
       "[5 rows x 196 columns]"
      ]
     },
     "execution_count": 52,
     "metadata": {},
     "output_type": "execute_result"
    }
   ],
   "source": [
    "stock_data = stock_data.loc[:, ['close', 'volume']]\n",
    "stock_data.head()"
   ]
  },
  {
   "cell_type": "markdown",
   "metadata": {},
   "source": [
    "#### Further refine by setting a minimum average daily volume requirement"
   ]
  },
  {
   "cell_type": "code",
   "execution_count": 53,
   "metadata": {
    "scrolled": true
   },
   "outputs": [
    {
     "data": {
      "text/plain": [
       "Symbols\n",
       "AAPL    3.786395e+07\n",
       "ABBV    7.895292e+06\n",
       "ABT     6.946152e+06\n",
       "ACN     2.355334e+06\n",
       "AGN     3.227234e+06\n",
       "dtype: float64"
      ]
     },
     "execution_count": 53,
     "metadata": {},
     "output_type": "execute_result"
    }
   ],
   "source": [
    "volume = stock_data['volume']\n",
    "volume.mean().head()"
   ]
  },
  {
   "cell_type": "code",
   "execution_count": 54,
   "metadata": {},
   "outputs": [
    {
     "data": {
      "text/plain": [
       "(1006, 112)"
      ]
     },
     "execution_count": 54,
     "metadata": {},
     "output_type": "execute_result"
    }
   ],
   "source": [
    "Hvolume = volume.loc[:, volume.mean() > 5000000]\n",
    "symlist = Hvolume.columns\n",
    "newcols = [('close', sym) for sym in symlist] + [('volume', sym) for sym in symlist]\n",
    "\n",
    "HiVol = stock_data.loc[:, newcols]\n",
    "HiVol.shape "
   ]
  },
  {
   "cell_type": "code",
   "execution_count": 55,
   "metadata": {},
   "outputs": [],
   "source": [
    "dates = HiVol.index\n",
    "HiVol = HiVol.set_index(dates)"
   ]
  },
  {
   "cell_type": "markdown",
   "metadata": {},
   "source": [
    "#### Create the desired independent variables from the dataset. Particularly, we want the volume weighted returns for 1-day, 2-day, 3-day, week, month, 3-month, 6-month, and year intervals. First we calculate average log returns, then we multiply this figure by average volume (in millions) over the corresponding period"
   ]
  },
  {
   "cell_type": "code",
   "execution_count": 56,
   "metadata": {},
   "outputs": [],
   "source": [
    "D_log_ret = np.log(HiVol.loc[:, 'close']/HiVol.loc[:, 'close'].shift(1))\n",
    "D2_log_ret = np.log(HiVol.loc[:, 'close']/HiVol.loc[:, 'close'].shift(2))/2\n",
    "D3_log_ret = np.log(HiVol.loc[:, 'close']/HiVol.loc[:, 'close'].shift(3))/3\n",
    "W_log_ret = np.log(HiVol.loc[:, 'close']/HiVol.loc[:, 'close'].shift(5))/5\n",
    "M_log_ret = np.log(HiVol.loc[:, 'close']/HiVol.loc[:, 'close'].shift(21))/21\n",
    "M3_log_ret = np.log(HiVol.loc[:, 'close']/HiVol.loc[:, 'close'].shift(63))/63\n",
    "M6_log_ret = np.log(HiVol.loc[:, 'close']/HiVol.loc[:, 'close'].shift(126))/126\n",
    "Y_log_ret = np.log(HiVol.loc[:, 'close']/HiVol.loc[:, 'close'].shift(252))/252"
   ]
  },
  {
   "cell_type": "code",
   "execution_count": 57,
   "metadata": {},
   "outputs": [],
   "source": [
    "D_Avg_Vol = HiVol.loc[:, 'volume']/1000000\n",
    "D2_Avg_Vol = HiVol.loc[:, 'volume'].rolling(window=2).mean()/1000000\n",
    "D3_Avg_Vol = HiVol.loc[:, 'volume'].rolling(window=3).mean()/1000000\n",
    "W_Avg_Vol = HiVol.loc[:, 'volume'].rolling(window=5).mean()/1000000\n",
    "M_Avg_Vol = HiVol.loc[:, 'volume'].rolling(window=21).mean()/1000000\n",
    "M3_Avg_Vol = HiVol.loc[:, 'volume'].rolling(window=63).mean()/1000000\n",
    "M6_Avg_Vol = HiVol.loc[:, 'volume'].rolling(window=126).mean()/1000000\n",
    "Y_Avg_Vol = HiVol.loc[:, 'volume'].rolling(window=252).mean()/1000000"
   ]
  },
  {
   "cell_type": "code",
   "execution_count": 58,
   "metadata": {},
   "outputs": [],
   "source": [
    "D_VolWeightRet = D_Avg_Vol*D_log_ret\n",
    "D2_VolWeightRet = D2_Avg_Vol*D2_log_ret\n",
    "D3_VolWeightRet = D3_Avg_Vol*D3_log_ret\n",
    "W_VolWeightRet = W_Avg_Vol*W_log_ret\n",
    "M_VolWeightRet = M_Avg_Vol*M_log_ret\n",
    "M3_VolWeightRet = M3_Avg_Vol*M3_log_ret\n",
    "M6_VolWeightRet = M6_Avg_Vol*M6_log_ret\n",
    "Y_VolWeightRet = Y_Avg_Vol*Y_log_ret"
   ]
  },
  {
   "cell_type": "markdown",
   "metadata": {},
   "source": [
    "#### Organize the data into a format that is conducive for success when implementing the linear regression algorithm"
   ]
  },
  {
   "cell_type": "code",
   "execution_count": 59,
   "metadata": {},
   "outputs": [
    {
     "data": {
      "text/html": [
       "<div>\n",
       "<style scoped>\n",
       "    .dataframe tbody tr th:only-of-type {\n",
       "        vertical-align: middle;\n",
       "    }\n",
       "\n",
       "    .dataframe tbody tr th {\n",
       "        vertical-align: top;\n",
       "    }\n",
       "\n",
       "    .dataframe thead th {\n",
       "        text-align: right;\n",
       "    }\n",
       "</style>\n",
       "<table border=\"1\" class=\"dataframe\">\n",
       "  <thead>\n",
       "    <tr style=\"text-align: right;\">\n",
       "      <th></th>\n",
       "      <th>B0</th>\n",
       "      <th>B1</th>\n",
       "      <th>B2</th>\n",
       "      <th>B3</th>\n",
       "      <th>B4</th>\n",
       "      <th>B5</th>\n",
       "      <th>B6</th>\n",
       "      <th>B7</th>\n",
       "      <th>B8</th>\n",
       "      <th>B9</th>\n",
       "    </tr>\n",
       "    <tr>\n",
       "      <th>date</th>\n",
       "      <th></th>\n",
       "      <th></th>\n",
       "      <th></th>\n",
       "      <th></th>\n",
       "      <th></th>\n",
       "      <th></th>\n",
       "      <th></th>\n",
       "      <th></th>\n",
       "      <th></th>\n",
       "      <th></th>\n",
       "    </tr>\n",
       "  </thead>\n",
       "  <tbody>\n",
       "    <tr>\n",
       "      <th>2015-01-02</th>\n",
       "      <td>1.0</td>\n",
       "      <td>101.5280</td>\n",
       "      <td>NaN</td>\n",
       "      <td>NaN</td>\n",
       "      <td>NaN</td>\n",
       "      <td>NaN</td>\n",
       "      <td>NaN</td>\n",
       "      <td>NaN</td>\n",
       "      <td>NaN</td>\n",
       "      <td>NaN</td>\n",
       "    </tr>\n",
       "    <tr>\n",
       "      <th>2015-01-05</th>\n",
       "      <td>1.0</td>\n",
       "      <td>98.6678</td>\n",
       "      <td>-1.837020</td>\n",
       "      <td>NaN</td>\n",
       "      <td>NaN</td>\n",
       "      <td>NaN</td>\n",
       "      <td>NaN</td>\n",
       "      <td>NaN</td>\n",
       "      <td>NaN</td>\n",
       "      <td>NaN</td>\n",
       "    </tr>\n",
       "    <tr>\n",
       "      <th>2015-01-06</th>\n",
       "      <td>1.0</td>\n",
       "      <td>98.6771</td>\n",
       "      <td>0.006201</td>\n",
       "      <td>-0.926244</td>\n",
       "      <td>NaN</td>\n",
       "      <td>NaN</td>\n",
       "      <td>NaN</td>\n",
       "      <td>NaN</td>\n",
       "      <td>NaN</td>\n",
       "      <td>NaN</td>\n",
       "    </tr>\n",
       "    <tr>\n",
       "      <th>2015-01-07</th>\n",
       "      <td>1.0</td>\n",
       "      <td>100.0607</td>\n",
       "      <td>0.558439</td>\n",
       "      <td>0.371146</td>\n",
       "      <td>-0.275282</td>\n",
       "      <td>NaN</td>\n",
       "      <td>NaN</td>\n",
       "      <td>NaN</td>\n",
       "      <td>NaN</td>\n",
       "      <td>NaN</td>\n",
       "    </tr>\n",
       "    <tr>\n",
       "      <th>2015-01-08</th>\n",
       "      <td>1.0</td>\n",
       "      <td>103.9053</td>\n",
       "      <td>2.238216</td>\n",
       "      <td>1.283841</td>\n",
       "      <td>0.949761</td>\n",
       "      <td>NaN</td>\n",
       "      <td>NaN</td>\n",
       "      <td>NaN</td>\n",
       "      <td>NaN</td>\n",
       "      <td>NaN</td>\n",
       "    </tr>\n",
       "    <tr>\n",
       "      <th>2015-01-09</th>\n",
       "      <td>1.0</td>\n",
       "      <td>104.0167</td>\n",
       "      <td>0.057542</td>\n",
       "      <td>1.096000</td>\n",
       "      <td>0.896871</td>\n",
       "      <td>0.274379</td>\n",
       "      <td>NaN</td>\n",
       "      <td>NaN</td>\n",
       "      <td>NaN</td>\n",
       "      <td>NaN</td>\n",
       "    </tr>\n",
       "    <tr>\n",
       "      <th>2015-01-12</th>\n",
       "      <td>1.0</td>\n",
       "      <td>101.4537</td>\n",
       "      <td>-1.238734</td>\n",
       "      <td>-0.616933</td>\n",
       "      <td>0.249958</td>\n",
       "      <td>0.299175</td>\n",
       "      <td>NaN</td>\n",
       "      <td>NaN</td>\n",
       "      <td>NaN</td>\n",
       "      <td>NaN</td>\n",
       "    </tr>\n",
       "    <tr>\n",
       "      <th>2015-01-13</th>\n",
       "      <td>1.0</td>\n",
       "      <td>102.3545</td>\n",
       "      <td>0.593075</td>\n",
       "      <td>-0.470158</td>\n",
       "      <td>-0.284783</td>\n",
       "      <td>0.395038</td>\n",
       "      <td>NaN</td>\n",
       "      <td>NaN</td>\n",
       "      <td>NaN</td>\n",
       "      <td>NaN</td>\n",
       "    </tr>\n",
       "    <tr>\n",
       "      <th>2015-01-14</th>\n",
       "      <td>1.0</td>\n",
       "      <td>101.9645</td>\n",
       "      <td>-0.186895</td>\n",
       "      <td>0.145704</td>\n",
       "      <td>-0.366872</td>\n",
       "      <td>0.210162</td>\n",
       "      <td>NaN</td>\n",
       "      <td>NaN</td>\n",
       "      <td>NaN</td>\n",
       "      <td>NaN</td>\n",
       "    </tr>\n",
       "    <tr>\n",
       "      <th>2015-01-15</th>\n",
       "      <td>1.0</td>\n",
       "      <td>99.1971</td>\n",
       "      <td>-1.651341</td>\n",
       "      <td>-0.853607</td>\n",
       "      <td>-0.440034</td>\n",
       "      <td>-0.518268</td>\n",
       "      <td>NaN</td>\n",
       "      <td>NaN</td>\n",
       "      <td>NaN</td>\n",
       "      <td>NaN</td>\n",
       "    </tr>\n",
       "  </tbody>\n",
       "</table>\n",
       "</div>"
      ],
      "text/plain": [
       "             B0        B1        B2        B3        B4        B5  B6  B7  B8  \\\n",
       "date                                                                            \n",
       "2015-01-02  1.0  101.5280       NaN       NaN       NaN       NaN NaN NaN NaN   \n",
       "2015-01-05  1.0   98.6678 -1.837020       NaN       NaN       NaN NaN NaN NaN   \n",
       "2015-01-06  1.0   98.6771  0.006201 -0.926244       NaN       NaN NaN NaN NaN   \n",
       "2015-01-07  1.0  100.0607  0.558439  0.371146 -0.275282       NaN NaN NaN NaN   \n",
       "2015-01-08  1.0  103.9053  2.238216  1.283841  0.949761       NaN NaN NaN NaN   \n",
       "2015-01-09  1.0  104.0167  0.057542  1.096000  0.896871  0.274379 NaN NaN NaN   \n",
       "2015-01-12  1.0  101.4537 -1.238734 -0.616933  0.249958  0.299175 NaN NaN NaN   \n",
       "2015-01-13  1.0  102.3545  0.593075 -0.470158 -0.284783  0.395038 NaN NaN NaN   \n",
       "2015-01-14  1.0  101.9645 -0.186895  0.145704 -0.366872  0.210162 NaN NaN NaN   \n",
       "2015-01-15  1.0   99.1971 -1.651341 -0.853607 -0.440034 -0.518268 NaN NaN NaN   \n",
       "\n",
       "            B9  \n",
       "date            \n",
       "2015-01-02 NaN  \n",
       "2015-01-05 NaN  \n",
       "2015-01-06 NaN  \n",
       "2015-01-07 NaN  \n",
       "2015-01-08 NaN  \n",
       "2015-01-09 NaN  \n",
       "2015-01-12 NaN  \n",
       "2015-01-13 NaN  \n",
       "2015-01-14 NaN  \n",
       "2015-01-15 NaN  "
      ]
     },
     "execution_count": 59,
     "metadata": {},
     "output_type": "execute_result"
    }
   ],
   "source": [
    "ticker = 'AAPL'\n",
    "data_len = D_VolWeightRet[ticker].shape[0]\n",
    "B0 = np.ones(data_len)\n",
    "B1 = HiVol.loc[:, 'close'][ticker]\n",
    "var_list = pd.DataFrame({ 'B0' : B0, 'B1' : B1, 'B2' : D_VolWeightRet[ticker], \n",
    "                    'B3' : D2_VolWeightRet[ticker], 'B4' : D3_VolWeightRet[ticker], \n",
    "                    'B5' : W_VolWeightRet[ticker], 'B6' : M_VolWeightRet[ticker], \n",
    "                    'B7' : M3_VolWeightRet[ticker], 'B8' : M6_VolWeightRet[ticker], \n",
    "                    'B9' : Y_VolWeightRet[ticker],})\n",
    "\n",
    "var_list.head(10)"
   ]
  },
  {
   "cell_type": "markdown",
   "metadata": {},
   "source": [
    "#### Refine independent variable data to the usuable dataset"
   ]
  },
  {
   "cell_type": "code",
   "execution_count": 60,
   "metadata": {},
   "outputs": [
    {
     "data": {
      "text/html": [
       "<div>\n",
       "<style scoped>\n",
       "    .dataframe tbody tr th:only-of-type {\n",
       "        vertical-align: middle;\n",
       "    }\n",
       "\n",
       "    .dataframe tbody tr th {\n",
       "        vertical-align: top;\n",
       "    }\n",
       "\n",
       "    .dataframe thead th {\n",
       "        text-align: right;\n",
       "    }\n",
       "</style>\n",
       "<table border=\"1\" class=\"dataframe\">\n",
       "  <thead>\n",
       "    <tr style=\"text-align: right;\">\n",
       "      <th></th>\n",
       "      <th>B0</th>\n",
       "      <th>B1</th>\n",
       "      <th>B2</th>\n",
       "      <th>B3</th>\n",
       "      <th>B4</th>\n",
       "      <th>B5</th>\n",
       "      <th>B6</th>\n",
       "      <th>B7</th>\n",
       "      <th>B8</th>\n",
       "      <th>B9</th>\n",
       "    </tr>\n",
       "    <tr>\n",
       "      <th>date</th>\n",
       "      <th></th>\n",
       "      <th></th>\n",
       "      <th></th>\n",
       "      <th></th>\n",
       "      <th></th>\n",
       "      <th></th>\n",
       "      <th></th>\n",
       "      <th></th>\n",
       "      <th></th>\n",
       "      <th></th>\n",
       "    </tr>\n",
       "  </thead>\n",
       "  <tbody>\n",
       "    <tr>\n",
       "      <th>2016-01-04</th>\n",
       "      <td>1.0</td>\n",
       "      <td>99.4989</td>\n",
       "      <td>0.057816</td>\n",
       "      <td>-0.502831</td>\n",
       "      <td>-0.470761</td>\n",
       "      <td>-0.192339</td>\n",
       "      <td>-0.206387</td>\n",
       "      <td>-0.029172</td>\n",
       "      <td>-0.071201</td>\n",
       "      <td>-0.004159</td>\n",
       "    </tr>\n",
       "    <tr>\n",
       "      <th>2016-01-05</th>\n",
       "      <td>1.0</td>\n",
       "      <td>97.0055</td>\n",
       "      <td>-1.415915</td>\n",
       "      <td>-0.756821</td>\n",
       "      <td>-0.801784</td>\n",
       "      <td>-0.346061</td>\n",
       "      <td>-0.243640</td>\n",
       "      <td>-0.049203</td>\n",
       "      <td>-0.080894</td>\n",
       "      <td>-0.003498</td>\n",
       "    </tr>\n",
       "    <tr>\n",
       "      <th>2016-01-06</th>\n",
       "      <td>1.0</td>\n",
       "      <td>95.1072</td>\n",
       "      <td>-1.352923</td>\n",
       "      <td>-1.402202</td>\n",
       "      <td>-0.944292</td>\n",
       "      <td>-0.792786</td>\n",
       "      <td>-0.359083</td>\n",
       "      <td>-0.066592</td>\n",
       "      <td>-0.078734</td>\n",
       "      <td>-0.007588</td>\n",
       "    </tr>\n",
       "    <tr>\n",
       "      <th>2016-01-07</th>\n",
       "      <td>1.0</td>\n",
       "      <td>91.0932</td>\n",
       "      <td>-3.496915</td>\n",
       "      <td>-2.351124</td>\n",
       "      <td>-2.013807</td>\n",
       "      <td>-1.340880</td>\n",
       "      <td>-0.460779</td>\n",
       "      <td>-0.094382</td>\n",
       "      <td>-0.088209</td>\n",
       "      <td>-0.019396</td>\n",
       "    </tr>\n",
       "    <tr>\n",
       "      <th>2016-01-08</th>\n",
       "      <td>1.0</td>\n",
       "      <td>91.5749</td>\n",
       "      <td>0.373393</td>\n",
       "      <td>-1.437186</td>\n",
       "      <td>-1.410495</td>\n",
       "      <td>-1.129485</td>\n",
       "      <td>-0.464322</td>\n",
       "      <td>-0.082764</td>\n",
       "      <td>-0.097202</td>\n",
       "      <td>-0.026117</td>\n",
       "    </tr>\n",
       "  </tbody>\n",
       "</table>\n",
       "</div>"
      ],
      "text/plain": [
       "             B0       B1        B2        B3        B4        B5        B6  \\\n",
       "date                                                                         \n",
       "2016-01-04  1.0  99.4989  0.057816 -0.502831 -0.470761 -0.192339 -0.206387   \n",
       "2016-01-05  1.0  97.0055 -1.415915 -0.756821 -0.801784 -0.346061 -0.243640   \n",
       "2016-01-06  1.0  95.1072 -1.352923 -1.402202 -0.944292 -0.792786 -0.359083   \n",
       "2016-01-07  1.0  91.0932 -3.496915 -2.351124 -2.013807 -1.340880 -0.460779   \n",
       "2016-01-08  1.0  91.5749  0.373393 -1.437186 -1.410495 -1.129485 -0.464322   \n",
       "\n",
       "                  B7        B8        B9  \n",
       "date                                      \n",
       "2016-01-04 -0.029172 -0.071201 -0.004159  \n",
       "2016-01-05 -0.049203 -0.080894 -0.003498  \n",
       "2016-01-06 -0.066592 -0.078734 -0.007588  \n",
       "2016-01-07 -0.094382 -0.088209 -0.019396  \n",
       "2016-01-08 -0.082764 -0.097202 -0.026117  "
      ]
     },
     "execution_count": 60,
     "metadata": {},
     "output_type": "execute_result"
    }
   ],
   "source": [
    "var_list1 = var_list[252:-1]\n",
    "var_list1.head()"
   ]
  },
  {
   "cell_type": "markdown",
   "metadata": {},
   "source": [
    "#### Create the price target values for supervised learning"
   ]
  },
  {
   "cell_type": "code",
   "execution_count": 61,
   "metadata": {},
   "outputs": [
    {
     "data": {
      "text/plain": [
       "date\n",
       "2016-01-05    97.0055\n",
       "2016-01-06    95.1072\n",
       "2016-01-07    91.0932\n",
       "2016-01-08    91.5749\n",
       "2016-01-11    93.0577\n",
       "Name: AAPL, dtype: float64"
      ]
     },
     "execution_count": 61,
     "metadata": {},
     "output_type": "execute_result"
    }
   ],
   "source": [
    "price_target = HiVol.loc[:, 'close'][ticker][253:]\n",
    "price_target.head()"
   ]
  },
  {
   "cell_type": "markdown",
   "metadata": {},
   "source": [
    "#### Randomly sort the training and test data. "
   ]
  },
  {
   "cell_type": "code",
   "execution_count": 62,
   "metadata": {},
   "outputs": [],
   "source": [
    "X_train, X_test, y_train, y_test = train_test_split(var_list1, \n",
    "                                    price_target, test_size=0.2, random_state=0)"
   ]
  },
  {
   "cell_type": "code",
   "execution_count": 63,
   "metadata": {},
   "outputs": [
    {
     "data": {
      "text/html": [
       "<div>\n",
       "<style scoped>\n",
       "    .dataframe tbody tr th:only-of-type {\n",
       "        vertical-align: middle;\n",
       "    }\n",
       "\n",
       "    .dataframe tbody tr th {\n",
       "        vertical-align: top;\n",
       "    }\n",
       "\n",
       "    .dataframe thead th {\n",
       "        text-align: right;\n",
       "    }\n",
       "</style>\n",
       "<table border=\"1\" class=\"dataframe\">\n",
       "  <thead>\n",
       "    <tr style=\"text-align: right;\">\n",
       "      <th></th>\n",
       "      <th>count</th>\n",
       "      <th>mean</th>\n",
       "      <th>std</th>\n",
       "      <th>min</th>\n",
       "      <th>25%</th>\n",
       "      <th>50%</th>\n",
       "      <th>75%</th>\n",
       "      <th>max</th>\n",
       "    </tr>\n",
       "  </thead>\n",
       "  <tbody>\n",
       "    <tr>\n",
       "      <th>B0</th>\n",
       "      <td>602.0</td>\n",
       "      <td>1.000000</td>\n",
       "      <td>0.000000</td>\n",
       "      <td>1.000000</td>\n",
       "      <td>1.000000</td>\n",
       "      <td>1.000000</td>\n",
       "      <td>1.000000</td>\n",
       "      <td>1.000000</td>\n",
       "    </tr>\n",
       "    <tr>\n",
       "      <th>B1</th>\n",
       "      <td>602.0</td>\n",
       "      <td>144.355118</td>\n",
       "      <td>39.340505</td>\n",
       "      <td>86.307900</td>\n",
       "      <td>106.163550</td>\n",
       "      <td>146.487600</td>\n",
       "      <td>171.667750</td>\n",
       "      <td>230.275400</td>\n",
       "    </tr>\n",
       "    <tr>\n",
       "      <th>B2</th>\n",
       "      <td>602.0</td>\n",
       "      <td>-0.013192</td>\n",
       "      <td>0.835158</td>\n",
       "      <td>-9.064426</td>\n",
       "      <td>-0.155891</td>\n",
       "      <td>0.013918</td>\n",
       "      <td>0.217776</td>\n",
       "      <td>6.628790</td>\n",
       "    </tr>\n",
       "    <tr>\n",
       "      <th>B3</th>\n",
       "      <td>602.0</td>\n",
       "      <td>-0.003292</td>\n",
       "      <td>0.592736</td>\n",
       "      <td>-4.707754</td>\n",
       "      <td>-0.114653</td>\n",
       "      <td>0.020474</td>\n",
       "      <td>0.165130</td>\n",
       "      <td>3.460759</td>\n",
       "    </tr>\n",
       "    <tr>\n",
       "      <th>B4</th>\n",
       "      <td>602.0</td>\n",
       "      <td>0.003627</td>\n",
       "      <td>0.463631</td>\n",
       "      <td>-3.161684</td>\n",
       "      <td>-0.109161</td>\n",
       "      <td>0.018994</td>\n",
       "      <td>0.144498</td>\n",
       "      <td>2.702390</td>\n",
       "    </tr>\n",
       "    <tr>\n",
       "      <th>B5</th>\n",
       "      <td>602.0</td>\n",
       "      <td>0.005358</td>\n",
       "      <td>0.319925</td>\n",
       "      <td>-1.703840</td>\n",
       "      <td>-0.094013</td>\n",
       "      <td>0.031900</td>\n",
       "      <td>0.132646</td>\n",
       "      <td>1.689961</td>\n",
       "    </tr>\n",
       "    <tr>\n",
       "      <th>B6</th>\n",
       "      <td>602.0</td>\n",
       "      <td>0.005881</td>\n",
       "      <td>0.142925</td>\n",
       "      <td>-0.496911</td>\n",
       "      <td>-0.039279</td>\n",
       "      <td>0.030424</td>\n",
       "      <td>0.102026</td>\n",
       "      <td>0.296493</td>\n",
       "    </tr>\n",
       "    <tr>\n",
       "      <th>B7</th>\n",
       "      <td>602.0</td>\n",
       "      <td>0.018107</td>\n",
       "      <td>0.067603</td>\n",
       "      <td>-0.261141</td>\n",
       "      <td>0.001269</td>\n",
       "      <td>0.030979</td>\n",
       "      <td>0.060428</td>\n",
       "      <td>0.121200</td>\n",
       "    </tr>\n",
       "    <tr>\n",
       "      <th>B8</th>\n",
       "      <td>602.0</td>\n",
       "      <td>0.020775</td>\n",
       "      <td>0.041581</td>\n",
       "      <td>-0.124583</td>\n",
       "      <td>0.011971</td>\n",
       "      <td>0.029826</td>\n",
       "      <td>0.049702</td>\n",
       "      <td>0.082361</td>\n",
       "    </tr>\n",
       "    <tr>\n",
       "      <th>B9</th>\n",
       "      <td>602.0</td>\n",
       "      <td>0.016771</td>\n",
       "      <td>0.034194</td>\n",
       "      <td>-0.065174</td>\n",
       "      <td>-0.005883</td>\n",
       "      <td>0.029643</td>\n",
       "      <td>0.043634</td>\n",
       "      <td>0.071380</td>\n",
       "    </tr>\n",
       "  </tbody>\n",
       "</table>\n",
       "</div>"
      ],
      "text/plain": [
       "    count        mean        std        min         25%         50%  \\\n",
       "B0  602.0    1.000000   0.000000   1.000000    1.000000    1.000000   \n",
       "B1  602.0  144.355118  39.340505  86.307900  106.163550  146.487600   \n",
       "B2  602.0   -0.013192   0.835158  -9.064426   -0.155891    0.013918   \n",
       "B3  602.0   -0.003292   0.592736  -4.707754   -0.114653    0.020474   \n",
       "B4  602.0    0.003627   0.463631  -3.161684   -0.109161    0.018994   \n",
       "B5  602.0    0.005358   0.319925  -1.703840   -0.094013    0.031900   \n",
       "B6  602.0    0.005881   0.142925  -0.496911   -0.039279    0.030424   \n",
       "B7  602.0    0.018107   0.067603  -0.261141    0.001269    0.030979   \n",
       "B8  602.0    0.020775   0.041581  -0.124583    0.011971    0.029826   \n",
       "B9  602.0    0.016771   0.034194  -0.065174   -0.005883    0.029643   \n",
       "\n",
       "           75%         max  \n",
       "B0    1.000000    1.000000  \n",
       "B1  171.667750  230.275400  \n",
       "B2    0.217776    6.628790  \n",
       "B3    0.165130    3.460759  \n",
       "B4    0.144498    2.702390  \n",
       "B5    0.132646    1.689961  \n",
       "B6    0.102026    0.296493  \n",
       "B7    0.060428    0.121200  \n",
       "B8    0.049702    0.082361  \n",
       "B9    0.043634    0.071380  "
      ]
     },
     "execution_count": 63,
     "metadata": {},
     "output_type": "execute_result"
    }
   ],
   "source": [
    "train_stats = X_train.describe().transpose()\n",
    "train_stats"
   ]
  },
  {
   "cell_type": "markdown",
   "metadata": {},
   "source": [
    "#### Normalize the independent variables to enhance probability of model convergence"
   ]
  },
  {
   "cell_type": "code",
   "execution_count": 64,
   "metadata": {},
   "outputs": [
    {
     "data": {
      "text/html": [
       "<div>\n",
       "<style scoped>\n",
       "    .dataframe tbody tr th:only-of-type {\n",
       "        vertical-align: middle;\n",
       "    }\n",
       "\n",
       "    .dataframe tbody tr th {\n",
       "        vertical-align: top;\n",
       "    }\n",
       "\n",
       "    .dataframe thead th {\n",
       "        text-align: right;\n",
       "    }\n",
       "</style>\n",
       "<table border=\"1\" class=\"dataframe\">\n",
       "  <thead>\n",
       "    <tr style=\"text-align: right;\">\n",
       "      <th></th>\n",
       "      <th>B0</th>\n",
       "      <th>B1</th>\n",
       "      <th>B2</th>\n",
       "      <th>B3</th>\n",
       "      <th>B4</th>\n",
       "      <th>B5</th>\n",
       "      <th>B6</th>\n",
       "      <th>B7</th>\n",
       "      <th>B8</th>\n",
       "      <th>B9</th>\n",
       "    </tr>\n",
       "    <tr>\n",
       "      <th>date</th>\n",
       "      <th></th>\n",
       "      <th></th>\n",
       "      <th></th>\n",
       "      <th></th>\n",
       "      <th></th>\n",
       "      <th></th>\n",
       "      <th></th>\n",
       "      <th></th>\n",
       "      <th></th>\n",
       "      <th></th>\n",
       "    </tr>\n",
       "  </thead>\n",
       "  <tbody>\n",
       "    <tr>\n",
       "      <th>2016-09-21</th>\n",
       "      <td>0.0</td>\n",
       "      <td>-0.896926</td>\n",
       "      <td>0.008208</td>\n",
       "      <td>-0.002298</td>\n",
       "      <td>-0.345644</td>\n",
       "      <td>0.552279</td>\n",
       "      <td>0.612483</td>\n",
       "      <td>1.266594</td>\n",
       "      <td>0.069000</td>\n",
       "      <td>-0.381261</td>\n",
       "    </tr>\n",
       "    <tr>\n",
       "      <th>2017-05-31</th>\n",
       "      <td>0.0</td>\n",
       "      <td>0.111378</td>\n",
       "      <td>-0.158086</td>\n",
       "      <td>-0.098772</td>\n",
       "      <td>-0.123211</td>\n",
       "      <td>-0.105788</td>\n",
       "      <td>0.405898</td>\n",
       "      <td>0.269546</td>\n",
       "      <td>1.162787</td>\n",
       "      <td>1.107002</td>\n",
       "    </tr>\n",
       "    <tr>\n",
       "      <th>2017-01-03</th>\n",
       "      <td>0.0</td>\n",
       "      <td>-0.818884</td>\n",
       "      <td>0.113847</td>\n",
       "      <td>-0.119178</td>\n",
       "      <td>-0.101240</td>\n",
       "      <td>-0.061936</td>\n",
       "      <td>0.521391</td>\n",
       "      <td>0.010348</td>\n",
       "      <td>0.871955</td>\n",
       "      <td>0.040885</td>\n",
       "    </tr>\n",
       "    <tr>\n",
       "      <th>2016-05-23</th>\n",
       "      <td>0.0</td>\n",
       "      <td>-1.327614</td>\n",
       "      <td>0.590630</td>\n",
       "      <td>0.696785</td>\n",
       "      <td>0.463787</td>\n",
       "      <td>0.618114</td>\n",
       "      <td>-1.454814</td>\n",
       "      <td>-0.047137</td>\n",
       "      <td>-2.140541</td>\n",
       "      <td>-2.153906</td>\n",
       "    </tr>\n",
       "    <tr>\n",
       "      <th>2018-01-29</th>\n",
       "      <td>0.0</td>\n",
       "      <td>0.518900</td>\n",
       "      <td>-1.252424</td>\n",
       "      <td>-0.698054</td>\n",
       "      <td>-1.159396</td>\n",
       "      <td>-1.426661</td>\n",
       "      <td>-0.195453</td>\n",
       "      <td>0.201098</td>\n",
       "      <td>0.169531</td>\n",
       "      <td>0.576552</td>\n",
       "    </tr>\n",
       "  </tbody>\n",
       "</table>\n",
       "</div>"
      ],
      "text/plain": [
       "             B0        B1        B2        B3        B4        B5        B6  \\\n",
       "date                                                                          \n",
       "2016-09-21  0.0 -0.896926  0.008208 -0.002298 -0.345644  0.552279  0.612483   \n",
       "2017-05-31  0.0  0.111378 -0.158086 -0.098772 -0.123211 -0.105788  0.405898   \n",
       "2017-01-03  0.0 -0.818884  0.113847 -0.119178 -0.101240 -0.061936  0.521391   \n",
       "2016-05-23  0.0 -1.327614  0.590630  0.696785  0.463787  0.618114 -1.454814   \n",
       "2018-01-29  0.0  0.518900 -1.252424 -0.698054 -1.159396 -1.426661 -0.195453   \n",
       "\n",
       "                  B7        B8        B9  \n",
       "date                                      \n",
       "2016-09-21  1.266594  0.069000 -0.381261  \n",
       "2017-05-31  0.269546  1.162787  1.107002  \n",
       "2017-01-03  0.010348  0.871955  0.040885  \n",
       "2016-05-23 -0.047137 -2.140541 -2.153906  \n",
       "2018-01-29  0.201098  0.169531  0.576552  "
      ]
     },
     "execution_count": 64,
     "metadata": {},
     "output_type": "execute_result"
    }
   ],
   "source": [
    "def norm(x):\n",
    "    return (x - train_stats['mean']) / (train_stats['std'] + 0.00000000001)\n",
    "normed_train_data = norm(X_train)\n",
    "normed_test_data = norm(X_test)\n",
    "\n",
    "normed_train_data.head()"
   ]
  },
  {
   "cell_type": "markdown",
   "metadata": {},
   "source": [
    "#### Fit the model. Then calculate R^2. The closer to 1, the better the accuracy of the trained model on the test data"
   ]
  },
  {
   "cell_type": "code",
   "execution_count": 65,
   "metadata": {},
   "outputs": [
    {
     "data": {
      "text/plain": [
       "0.995743170404882"
      ]
     },
     "execution_count": 65,
     "metadata": {},
     "output_type": "execute_result"
    }
   ],
   "source": [
    "model = LinearRegression()\n",
    "model.fit(normed_train_data, y_train)\n",
    "model.score(normed_test_data, y_test)"
   ]
  },
  {
   "cell_type": "markdown",
   "metadata": {},
   "source": [
    "#### Calculate the coeficients of the independent variables"
   ]
  },
  {
   "cell_type": "code",
   "execution_count": 66,
   "metadata": {},
   "outputs": [
    {
     "data": {
      "text/plain": [
       "array([ 0.00000000e+00,  3.90772141e+01,  2.33177780e-01,  3.68979476e-03,\n",
       "       -3.39546497e-01,  2.29006516e-01,  8.10389562e-02, -9.70591874e-02,\n",
       "       -1.40983863e-01,  2.82475001e-01])"
      ]
     },
     "execution_count": 66,
     "metadata": {},
     "output_type": "execute_result"
    }
   ],
   "source": [
    "model.coef_"
   ]
  },
  {
   "cell_type": "markdown",
   "metadata": {},
   "source": [
    "#### Create a dataframe showing the predicted values, the corresponding actual values, and the difference between them. Then output the average percentage error of the model on the test data"
   ]
  },
  {
   "cell_type": "code",
   "execution_count": 67,
   "metadata": {},
   "outputs": [
    {
     "data": {
      "text/plain": [
       "1.0711175144902556"
      ]
     },
     "execution_count": 67,
     "metadata": {},
     "output_type": "execute_result"
    }
   ],
   "source": [
    "analy = pd.DataFrame({ 'Predicted' : model.predict(normed_test_data), \n",
    "                      'Actual' : y_test,\n",
    "                      'Difference' : y_test - model.predict(normed_test_data)})\n",
    "analy['Difference'].apply(lambda x: abs(x)).mean()/analy['Actual'].mean()*100"
   ]
  },
  {
   "cell_type": "markdown",
   "metadata": {},
   "source": [
    "#### Plot the predictions against the actuals"
   ]
  },
  {
   "cell_type": "code",
   "execution_count": 68,
   "metadata": {},
   "outputs": [
    {
     "data": {
      "image/png": "[encoded data removed]",
      "text/plain": [
       "<matplotlib.figure.Figure at 0x1a1f2ef4a8>"
      ]
     },
     "metadata": {
      "needs_background": "light"
     },
     "output_type": "display_data"
    }
   ],
   "source": [
    "y_pred = model.predict(normed_test_data)\n",
    "plt.plot(y_test, y_pred, '.')\n",
    "\n",
    "x = np.linspace(min(y_test)-5, max(y_test)+5, 5)\n",
    "y = x\n",
    "plt.plot(x, y)\n",
    "plt.xlabel('Actual')\n",
    "plt.ylabel('Prediction')\n",
    "plt.show()"
   ]
  },
  {
   "cell_type": "markdown",
   "metadata": {},
   "source": [
    "#### Create a histogram of the dollar-amount errors between the predictions and actuals using test data"
   ]
  },
  {
   "cell_type": "code",
   "execution_count": 69,
   "metadata": {},
   "outputs": [
    {
     "data": {
      "image/png": "[encoded data removed]",
      "text/plain": [
       "<matplotlib.figure.Figure at 0x1a1f2ef6d8>"
      ]
     },
     "metadata": {
      "needs_background": "light"
     },
     "output_type": "display_data"
    }
   ],
   "source": [
    "n_bins = 12\n",
    "x = analy['Difference']\n",
    "\n",
    "fig, ax = plt.subplots()\n",
    "ax.hist(x, bins=n_bins, density=True)\n",
    "plt.xlabel('Dollar Error')\n",
    "plt.ylabel('Frequency')\n",
    "plt.show()"
   ]
  },
  {
   "cell_type": "code",
   "execution_count": null,
   "metadata": {
    "collapsed": true
   },
   "outputs": [],
   "source": []
  }
 ],
 "metadata": {
  "kernelspec": {
   "display_name": "Python 3",
   "language": "python",
   "name": "python3"
  },
  "language_info": {
   "codemirror_mode": {
    "name": "ipython",
    "version": 3
   },
   "file_extension": ".py",
   "mimetype": "text/x-python",
   "name": "python",
   "nbconvert_exporter": "python",
   "pygments_lexer": "ipython3",
   "version": "3.6.8"
  }
 },
 "nbformat": 4,
 "nbformat_minor": 2
}
